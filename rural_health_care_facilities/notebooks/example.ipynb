{
 "metadata": {
  "language_info": {
   "codemirror_mode": {
    "name": "ipython",
    "version": 3
   },
   "file_extension": ".py",
   "mimetype": "text/x-python",
   "name": "python",
   "nbconvert_exporter": "python",
   "pygments_lexer": "ipython3",
   "version": "3.8.5-final"
  },
  "orig_nbformat": 2,
  "kernelspec": {
   "name": "python3",
   "display_name": "Python 3.8.5 64-bit",
   "metadata": {
    "interpreter": {
     "hash": "767d51c1340bd893661ea55ea3124f6de3c7a262a8b4abca0554b478b1e2ff90"
    }
   }
  }
 },
 "nbformat": 4,
 "nbformat_minor": 2,
 "cells": [
  {
   "cell_type": "code",
   "execution_count": 54,
   "metadata": {},
   "outputs": [],
   "source": [
    "import pandas as pd\n",
    "import sqlite3\n",
    "import sys\n",
    "import numpy as np"
   ]
  },
  {
   "cell_type": "code",
   "execution_count": 55,
   "metadata": {},
   "outputs": [],
   "source": [
    "conn = sqlite3.connect('../rural.db')\n",
    "query = \"SELECT * FROM hospital_snapshot\""
   ]
  },
  {
   "cell_type": "code",
   "execution_count": 57,
   "metadata": {},
   "outputs": [
    {
     "output_type": "execute_result",
     "data": {
      "text/plain": [
       "             id  OBJECTID        snapshotTime Community Name  \\\n",
       "0  1607846508:1         1 2020-12-13 08:01:48      Flin Flon   \n",
       "\n",
       "                Facility Name        Lat        Long  \\\n",
       "0  Flin Flon General Hospital  54.765086 -101.877778   \n",
       "\n",
       "  Emergency Department Availability  Percentage of Time Open (2015)  \\\n",
       "0                     24/7 Services                           100.0   \n",
       "\n",
       "  Nearest Alternate Emergency Department  ...  \\\n",
       "0                                    NaN  ...   \n",
       "\n",
       "  Transitional Care Occupancy Rate (2015-16)  Transitional Care Availability  \\\n",
       "0                                        NaN                   Not Available   \n",
       "\n",
       "   Transitional Care Number of Beds  Diagnostic Care Services Available  \\\n",
       "0                               NaN                          X-Ray, Lab   \n",
       "\n",
       "  Emergency Medical Services Station  \\\n",
       "0                                Yes   \n",
       "\n",
       "   Nearest Alternate Emergency Medical Services Station Personal Care Home  \\\n",
       "0                                                NaN                   Yes   \n",
       "\n",
       "  Personal Care Home Number of Beds geometry_x geometry_y  \n",
       "0                              66.0        0.0   391790.0  \n",
       "\n",
       "[1 rows x 23 columns]"
      ],
      "text/html": "<div>\n<style scoped>\n    .dataframe tbody tr th:only-of-type {\n        vertical-align: middle;\n    }\n\n    .dataframe tbody tr th {\n        vertical-align: top;\n    }\n\n    .dataframe thead th {\n        text-align: right;\n    }\n</style>\n<table border=\"1\" class=\"dataframe\">\n  <thead>\n    <tr style=\"text-align: right;\">\n      <th></th>\n      <th>id</th>\n      <th>OBJECTID</th>\n      <th>snapshotTime</th>\n      <th>Community Name</th>\n      <th>Facility Name</th>\n      <th>Lat</th>\n      <th>Long</th>\n      <th>Emergency Department Availability</th>\n      <th>Percentage of Time Open (2015)</th>\n      <th>Nearest Alternate Emergency Department</th>\n      <th>...</th>\n      <th>Transitional Care Occupancy Rate (2015-16)</th>\n      <th>Transitional Care Availability</th>\n      <th>Transitional Care Number of Beds</th>\n      <th>Diagnostic Care Services Available</th>\n      <th>Emergency Medical Services Station</th>\n      <th>Nearest Alternate Emergency Medical Services Station</th>\n      <th>Personal Care Home</th>\n      <th>Personal Care Home Number of Beds</th>\n      <th>geometry_x</th>\n      <th>geometry_y</th>\n    </tr>\n  </thead>\n  <tbody>\n    <tr>\n      <th>0</th>\n      <td>1607846508:1</td>\n      <td>1</td>\n      <td>2020-12-13 08:01:48</td>\n      <td>Flin Flon</td>\n      <td>Flin Flon General Hospital</td>\n      <td>54.765086</td>\n      <td>-101.877778</td>\n      <td>24/7 Services</td>\n      <td>100.0</td>\n      <td>NaN</td>\n      <td>...</td>\n      <td>NaN</td>\n      <td>Not Available</td>\n      <td>NaN</td>\n      <td>X-Ray, Lab</td>\n      <td>Yes</td>\n      <td>NaN</td>\n      <td>Yes</td>\n      <td>66.0</td>\n      <td>0.0</td>\n      <td>391790.0</td>\n    </tr>\n  </tbody>\n</table>\n<p>1 rows × 23 columns</p>\n</div>"
     },
     "metadata": {},
     "execution_count": 57
    }
   ],
   "source": [
    "df = pd.read_sql_query(query, conn)\n",
    "# remove blanks and replace with NaN's so we can convert to integer/float dtypes\n",
    "df = df.replace(r'^\\s*$', np.nan, regex=True)\n",
    "# this is slightly annoying, but sqlite doesn't have great types...\n",
    "df = df.astype({\n",
    "    'OBJECTID': 'int64',\n",
    "    'snapshotTime': 'datetime64',\n",
    "    'Community Name': 'category',\n",
    "    'Facility Name': 'category',\n",
    "    'Lat': 'float64',\n",
    "    'Long': 'float64',\n",
    "    'Emergency Department Availability': 'category',\n",
    "    'Percentage of Time Open (2015)': 'float32', \n",
    "    'Nearest Alternate Emergency Department': 'category',\n",
    "    'Acute Care Availability': 'category',\n",
    "    'Acute Care Number of Beds': 'float64',\n",
    "    'Acute Care Occupancy Rate (2015-16)': 'float32',\n",
    "    'Transitional Care Occupancy Rate (2015-16)': 'float32', \n",
    "    'Transitional Care Availability': 'category',\n",
    "    'Transitional Care Number of Beds': 'float32',\n",
    "    'Diagnostic Care Services Available': 'category',\n",
    "    'Emergency Medical Services Station': 'category',\n",
    "    'Nearest Alternate Emergency Medical Services Station': 'category',\n",
    "    'Personal Care Home': 'category',\n",
    "    'Personal Care Home Number of Beds': 'float64',\n",
    "    'geometry_x': 'float64',\n",
    "    'geometry_y': 'float64',   \n",
    "})\n",
    "\n",
    "df\n"
   ]
  },
  {
   "cell_type": "code",
   "execution_count": null,
   "metadata": {},
   "outputs": [],
   "source": []
  }
 ]
}